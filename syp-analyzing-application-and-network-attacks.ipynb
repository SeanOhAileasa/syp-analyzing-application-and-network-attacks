{
 "cells": [
  {
   "cell_type": "markdown",
   "id": "d4ee9e4b",
   "metadata": {},
   "source": [
    "***\n",
    "< [Home](https://github.com/SeanOhAileasa) | [README](https://github.com/SeanOhAileasa/syp-analyzing-application-and-network-attacks/blob/main/README.md) >\n",
    "\n",
    "## CompTIA Security+ - Course Material 2022\n",
    "###### Topic: ``Analyzing Application and Network Attacks``\n",
    "***"
   ]
  },
  {
   "cell_type": "markdown",
   "id": "b82b07fb",
   "metadata": {},
   "source": [
    "Course material for the ``CompTIA Security+`` module of the ``ICT Associate Apprenticeship (Cybersecurity)`` programme."
   ]
  },
  {
   "cell_type": "markdown",
   "id": "e7228f57",
   "metadata": {},
   "source": [
    "<a id=\"top\"></a>\n",
    "***\n",
    "## Table of Contents\n",
    "***"
   ]
  },
  {
   "cell_type": "markdown",
   "id": "c2bb5e7b",
   "metadata": {},
   "source": [
    "### [Analyzing Application and Network Attacks](#analyzingApplicationandNetworkAttacks) <br/><br/>"
   ]
  },
  {
   "cell_type": "markdown",
   "id": "46e92524",
   "metadata": {},
   "source": [
    "### [Privilege Escalation](#PrivilegeEscalation) <br/><br/>\n",
    "<hr width=50%;>"
   ]
  },
  {
   "cell_type": "markdown",
   "id": "97efdf63",
   "metadata": {},
   "source": [
    "### [Cross-site Scripting and Request Forgery](#CrosssiteScriptingandRequestForgery) <br/><br/>\n",
    "<hr width=50%;>"
   ]
  },
  {
   "cell_type": "markdown",
   "id": "aa5ed607",
   "metadata": {},
   "source": [
    "### [Injection Attacks](#InjectionAttacks)  <br/><br/>\n",
    "<hr width=50%;>"
   ]
  },
  {
   "cell_type": "markdown",
   "id": "42df9a18",
   "metadata": {},
   "source": [
    "### [Targeted Coding Attacks](#TargetedCodingAttacks) <br/><br/>\n",
    "<hr width=50%;>"
   ]
  },
  {
   "cell_type": "markdown",
   "id": "c437d4ed",
   "metadata": {},
   "source": [
    "### [Application Programming Interface Attacks](#ApplicationProgrammingInterfaceAttacks) <br/><br/>\n",
    "<hr width=50%;>"
   ]
  },
  {
   "cell_type": "markdown",
   "id": "62a70b61",
   "metadata": {},
   "source": [
    "### [SSL Stripping and Pass the Hash](#SSLStrippingandPasstheHash) <br/><br/>\n",
    "<hr width=50%;>"
   ]
  },
  {
   "cell_type": "markdown",
   "id": "69e59f7d",
   "metadata": {},
   "source": [
    "### [Driver Manipulation](#DriverManipulation) <br/><br/>\n",
    "<hr width=50%;>"
   ]
  },
  {
   "cell_type": "markdown",
   "id": "d6caa49c",
   "metadata": {},
   "source": [
    "### [Wireless Attacks](#WirelessAttacks) <br/><br/>\n",
    "<hr width=50%;>"
   ]
  },
  {
   "cell_type": "markdown",
   "id": "a5441a02",
   "metadata": {},
   "source": [
    "### [Man-in-the-Middle Attacks](#ManintheMiddleAttacks) <br/><br/>\n",
    "<hr width=50%;>"
   ]
  },
  {
   "cell_type": "markdown",
   "id": "2a54fdef",
   "metadata": {},
   "source": [
    "### [Layer 2 Attacks](#Layer2Attacks) <br/><br/>\n",
    "<hr width=50%;>"
   ]
  },
  {
   "cell_type": "markdown",
   "id": "af501ef3",
   "metadata": {},
   "source": [
    "### [DNS Attacks](#DNSAttacks) <br/><br/>\n",
    "<hr width=50%;>"
   ]
  },
  {
   "cell_type": "markdown",
   "id": "c483b236",
   "metadata": {},
   "source": [
    "### [Distributed Denial-of-Service Attacks](#DistributedDenialofServiceAttacks) <br/><br/>\n",
    "<hr width=50%;>"
   ]
  },
  {
   "cell_type": "markdown",
   "id": "1b7bcf28",
   "metadata": {},
   "source": [
    "### [Malicious Code or Script Execution](#MaliciousCodeorScriptExecution) <br/><br/>\n",
    "<hr width=50%;>"
   ]
  },
  {
   "cell_type": "markdown",
   "id": "131a6d74",
   "metadata": {},
   "source": [
    "### [Course Summary](#CourseSummary) <br/><br/>\n",
    "<hr width=50%;>"
   ]
  },
  {
   "cell_type": "markdown",
   "id": "bf2b95e2",
   "metadata": {},
   "source": [
    "***\n",
    "## END"
   ]
  },
  {
   "cell_type": "markdown",
   "id": "34aa6eb5",
   "metadata": {},
   "source": [
    "< [Table of Contents](#top) | [References](#references) >\n",
    "<a id=\"analyzingApplicationandNetworkAttacks\"></a>\n",
    "***\n",
    "### Analyzing Application and Network Attacks\n",
    "***"
   ]
  },
  {
   "cell_type": "markdown",
   "id": "0632c757",
   "metadata": {},
   "source": [
    "It is crucial that you be able to recognize various application and network attacks and be able to protect your infrastructure from them. In this course, you'll learn to analyze different application attacks such as privilege escalation, cross-site scripting, request forgery, injection, code, and APIs. You'll also look at other attacks like SSL stripping, pass the hash, and driver manipulation. Then, you'll move on to explore a variety of network attacks, including wireless, man-in-the-middle, Layer 2, DNS, DDoS, and malicious code or script execution. This course can be used in preparation for the CompTIA Security+ SY0-601 certification exam."
   ]
  },
  {
   "cell_type": "markdown",
   "id": "e1f1c6fa",
   "metadata": {},
   "source": [
    "Objectives\n",
    "\n",
    "- discover the key concepts covered in this course <br/><br/>\n",
    "- describe privilege escalation and elevation techniques that exploit poor least privilege policies <br/><br/>\n",
    "- describe and compare cross-site scripting and cross-site request forgery, which are now the most common attacks against web services <br/><br/>\n",
    "- describe different injection attacks against SQL, DLLs, LDAP, and XML <br/><br/>\n",
    "- recognize a variety of coding attacks like pointer/object dereference, directory traversal, buffer overflows, and race conditions <br/><br/>\n",
    "- describe API attacks, the most common being against login credentials and authentication <br/><br/>\n",
    "- describe secure sockets layer stripping against web servers and pass the hash attacks against older version of Windows operating systems, which are still common in IoT and embedded devices <br/><br/>\n",
    "- define device driver manipulation in Windows and *nix systems including shimming and refactoring <br/><br/>\n",
    "- describe wireless attacks like evil twin, rogue access points, disassociation, and jamming <br/><br/>\n",
    "- define exploits where the attacker secretly relays and possibly alters communications between two parties who assume they are communicating with each other <br/><br/>\n",
    "- describe Layer 2 attacks such as ARP poisoning, MAC flooding, and MAC cloning <br/><br/>\n",
    "- define DNS attacks such as domain hijacking, DNS poisoning, and URL redirection <br/><br/>\n",
    "- describe DDoS attacks against the network, applications, and operational technology <br/><br/>\n",
    "- recognize malicious code or script execution targeting PowerShell, Python, Bash shells, macros, and Visual Basic for Applications <br/><br/>\n",
    "- summarize the key concepts covered in this course <br/><br/>"
   ]
  },
  {
   "cell_type": "markdown",
   "id": "ca904d38",
   "metadata": {},
   "source": [
    "< [Table of Contents](#top) | [References](#references) >\n",
    "<a id=\"PrivilegeEscalation\"></a>\n",
    "***\n",
    "### Privilege Escalation\n",
    "***"
   ]
  },
  {
   "cell_type": "markdown",
   "id": "73923b7b",
   "metadata": {},
   "source": []
  },
  {
   "cell_type": "markdown",
   "id": "9bdf2a69",
   "metadata": {},
   "source": [
    "< [Table of Contents](#top) | [References](#references) >\n",
    "<a id=\"CrosssiteScriptingandRequestForgery\"></a>\n",
    "***\n",
    "### Cross-site Scripting and Request Forgery\n",
    "***"
   ]
  },
  {
   "cell_type": "markdown",
   "id": "861e8a21",
   "metadata": {},
   "source": []
  },
  {
   "cell_type": "markdown",
   "id": "f779ebcb",
   "metadata": {},
   "source": [
    "< [Table of Contents](#top) | [References](#references) >\n",
    "<a id=\"InjectionAttacks\"></a>\n",
    "***\n",
    "### Injection Attacks\n",
    "***"
   ]
  },
  {
   "cell_type": "markdown",
   "id": "cdf2e3d8",
   "metadata": {},
   "source": []
  },
  {
   "cell_type": "markdown",
   "id": "c71a67b0",
   "metadata": {},
   "source": [
    "< [Table of Contents](#top) | [References](#references) >\n",
    "<a id=\"TargetedCodingAttacks\"></a>\n",
    "***\n",
    "### Targeted Coding Attacks\n",
    "***"
   ]
  },
  {
   "cell_type": "markdown",
   "id": "b52014c1",
   "metadata": {},
   "source": []
  },
  {
   "cell_type": "markdown",
   "id": "33454028",
   "metadata": {},
   "source": [
    "< [Table of Contents](#top) | [References](#references) >\n",
    "<a id=\"ApplicationProgrammingInterfaceAttacks\"></a>\n",
    "***\n",
    "### Application Programming Interface Attacks\n",
    "***"
   ]
  },
  {
   "cell_type": "markdown",
   "id": "dde42940",
   "metadata": {},
   "source": []
  },
  {
   "cell_type": "markdown",
   "id": "b7757d01",
   "metadata": {},
   "source": [
    "< [Table of Contents](#top) | [References](#references) >\n",
    "<a id=\"SSLStrippingandPasstheHash\"></a>\n",
    "***\n",
    "### SSL Stripping and Pass the Hash\n",
    "***"
   ]
  },
  {
   "cell_type": "markdown",
   "id": "fa306aa7",
   "metadata": {},
   "source": []
  },
  {
   "cell_type": "markdown",
   "id": "023090d4",
   "metadata": {},
   "source": [
    "< [Table of Contents](#top) | [References](#references) >\n",
    "<a id=\"DriverManipulation\"></a>\n",
    "***\n",
    "### Driver Manipulation\n",
    "***"
   ]
  },
  {
   "cell_type": "markdown",
   "id": "99620362",
   "metadata": {},
   "source": []
  },
  {
   "cell_type": "markdown",
   "id": "94a1a6a3",
   "metadata": {},
   "source": [
    "< [Table of Contents](#top) | [References](#references) >\n",
    "<a id=\"WirelessAttacks\"></a>\n",
    "***\n",
    "### Wireless Attacks\n",
    "***"
   ]
  },
  {
   "cell_type": "markdown",
   "id": "bd3a0208",
   "metadata": {},
   "source": []
  },
  {
   "cell_type": "markdown",
   "id": "86d0eb83",
   "metadata": {},
   "source": [
    "< [Table of Contents](#top) | [References](#references) >\n",
    "<a id=\"ManintheMiddleAttacks\"></a>\n",
    "***\n",
    "### Man-in-the-Middle Attacks\n",
    "***"
   ]
  },
  {
   "cell_type": "markdown",
   "id": "32e5ea2c",
   "metadata": {},
   "source": []
  },
  {
   "cell_type": "markdown",
   "id": "390a5ef1",
   "metadata": {},
   "source": [
    "< [Table of Contents](#top) | [References](#references) >\n",
    "<a id=\"Layer2Attacks\"></a>\n",
    "***\n",
    "### Layer 2 Attacks\n",
    "***"
   ]
  },
  {
   "cell_type": "markdown",
   "id": "3f4a5068",
   "metadata": {},
   "source": []
  },
  {
   "cell_type": "markdown",
   "id": "795dcc2e",
   "metadata": {},
   "source": [
    "< [Table of Contents](#top) | [References](#references) >\n",
    "<a id=\"DNSAttacks\"></a>\n",
    "***\n",
    "### DNS Attacks\n",
    "***"
   ]
  },
  {
   "cell_type": "markdown",
   "id": "077e4c17",
   "metadata": {},
   "source": []
  },
  {
   "cell_type": "markdown",
   "id": "6d705e92",
   "metadata": {},
   "source": [
    "< [Table of Contents](#top) | [References](#references) >\n",
    "<a id=\"DistributedDenialofServiceAttacks\"></a>\n",
    "***\n",
    "### Distributed Denial-of-Service Attacks\n",
    "***"
   ]
  },
  {
   "cell_type": "markdown",
   "id": "6ea2dc7e",
   "metadata": {},
   "source": []
  },
  {
   "cell_type": "markdown",
   "id": "4562dd02",
   "metadata": {},
   "source": [
    "< [Table of Contents](#top) | [References](#references) >\n",
    "<a id=\"MaliciousCodeorScriptExecution\"></a>\n",
    "***\n",
    "### Malicious Code or Script Execution\n",
    "***"
   ]
  },
  {
   "cell_type": "markdown",
   "id": "f511420c",
   "metadata": {},
   "source": []
  },
  {
   "cell_type": "markdown",
   "id": "6cc9f477",
   "metadata": {},
   "source": [
    "< [Table of Contents](#top) | [References](#references) >\n",
    "<a id=\"CourseSummary\"></a>\n",
    "***\n",
    "### Course Summary\n",
    "***"
   ]
  },
  {
   "cell_type": "markdown",
   "id": "51657d82",
   "metadata": {},
   "source": []
  },
  {
   "cell_type": "markdown",
   "id": "2cc20932",
   "metadata": {},
   "source": [
    "***\n",
    "## END"
   ]
  },
  {
   "cell_type": "markdown",
   "id": "e0e42d51",
   "metadata": {},
   "source": [
    "< [Table of Contents](#top) >\n",
    "<a id=\"references\"></a>\n",
    "***\n",
    "## References\n",
    "***"
   ]
  },
  {
   "cell_type": "markdown",
   "id": "757bf6de",
   "metadata": {},
   "source": [
    "&nbsp;&nbsp;&nbsp;&nbsp;&nbsp;&nbsp;&nbsp;&nbsp;&nbsp;eCollege, \"Analyzing Application and Network Attacks,\" [ecollege.ie](https://web.archive.org/web/20220328112908/https://www.ecollege.ie/courses/comptia-security/), n.d.."
   ]
  },
  {
   "cell_type": "markdown",
   "id": "b33c372a",
   "metadata": {},
   "source": [
    "***\n",
    "## END"
   ]
  },
  {
   "cell_type": "markdown",
   "id": "e5961b4d",
   "metadata": {},
   "source": [
    "< [Table of Contents](#top) | [References](#references) >\n",
    "<a id=\"appendix\"></a>\n",
    "***\n",
    "## Appendix\n",
    "***"
   ]
  },
  {
   "cell_type": "markdown",
   "id": "00d82a82",
   "metadata": {},
   "source": [
    "***\n",
    "## END"
   ]
  },
  {
   "cell_type": "code",
   "execution_count": 1,
   "id": "706756a2",
   "metadata": {},
   "outputs": [
    {
     "data": {
      "text/html": [
       "<style>.container { width:100% !important; }</style>"
      ],
      "text/plain": [
       "<IPython.core.display.HTML object>"
      ]
     },
     "metadata": {},
     "output_type": "display_data"
    }
   ],
   "source": [
    "from IPython.core.display import display,HTML\n",
    "display(HTML(\"<style>.container { width:100% !important; }</style>\"))"
   ]
  },
  {
   "cell_type": "markdown",
   "id": "899c1783",
   "metadata": {},
   "source": [
    "# END JUPYTER NOTEBOOK"
   ]
  }
 ],
 "metadata": {
  "kernelspec": {
   "display_name": "Python 3",
   "language": "python",
   "name": "python3"
  },
  "language_info": {
   "codemirror_mode": {
    "name": "ipython",
    "version": 3
   },
   "file_extension": ".py",
   "mimetype": "text/x-python",
   "name": "python",
   "nbconvert_exporter": "python",
   "pygments_lexer": "ipython3",
   "version": "3.8.8"
  }
 },
 "nbformat": 4,
 "nbformat_minor": 5
}
